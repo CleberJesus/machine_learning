{
  "nbformat": 4,
  "nbformat_minor": 0,
  "metadata": {
    "colab": {
      "provenance": [],
      "authorship_tag": "ABX9TyOrZgE5q/VVnfsmJ9N2I1lM",
      "include_colab_link": true
    },
    "kernelspec": {
      "name": "python3",
      "display_name": "Python 3"
    },
    "language_info": {
      "name": "python"
    }
  },
  "cells": [
    {
      "cell_type": "markdown",
      "metadata": {
        "id": "view-in-github",
        "colab_type": "text"
      },
      "source": [
        "<a href=\"https://colab.research.google.com/github/CleberJesus/machine_learning/blob/main/machine_learning_2.ipynb\" target=\"_parent\"><img src=\"https://colab.research.google.com/assets/colab-badge.svg\" alt=\"Open In Colab\"/></a>"
      ]
    },
    {
      "cell_type": "markdown",
      "source": [
        "# **Implementando uma Deep Learning do zero em python**"
      ],
      "metadata": {
        "id": "fw8B0rS42V8_"
      }
    },
    {
      "cell_type": "code",
      "execution_count": 12,
      "metadata": {
        "id": "QnhAJc2F2PJ3"
      },
      "outputs": [],
      "source": [
        "import numpy as np\n",
        "import torch\n",
        "import torch.nn.functional as f\n",
        "import torchvision\n",
        "import matplotlib.pyplot as plt\n",
        "from  time import time\n",
        "from torchvision import datasets, transforms\n",
        "from torch import nn, optim"
      ]
    },
    {
      "cell_type": "code",
      "source": [
        "transform = transforms.ToTensor()\n",
        "\n",
        "#carrega a parte de treino do dataset\n",
        "trainset = datasets.MNIST('./MNIST_data/', download=True, transform=transform)\n",
        "#cria um buffer para pegar os dados por partes\n",
        "trainloader = torch.utils.data.DataLoader(trainset, batch_size=64, shuffle=True)\n",
        "\n",
        "#carrega a parte de validação\n",
        "valset = datasets.MNIST('./MNIST_data/', download=True, transform=transform)\n",
        "#cria um buffer para pegar os dados por\n",
        "valloader = torch.utils.data.DataLoader(trainset, batch_size=64, shuffle=True)"
      ],
      "metadata": {
        "id": "mTXW5h8_32zC"
      },
      "execution_count": 13,
      "outputs": []
    },
    {
      "cell_type": "code",
      "source": [
        "dataiter = iter(trainloader)\n",
        "imagens, etiquetas = dataiter.next()\n",
        "plt.imshow(imagens[0].numpy().squeeze(), cmap='gray_r')"
      ],
      "metadata": {
        "colab": {
          "base_uri": "https://localhost:8080/",
          "height": 282
        },
        "id": "G-Detct633Dh",
        "outputId": "bf2d084d-4b3b-45b3-d3fc-3efccaf64d7d"
      },
      "execution_count": 14,
      "outputs": [
        {
          "output_type": "execute_result",
          "data": {
            "text/plain": [
              "<matplotlib.image.AxesImage at 0x7fea787a6690>"
            ]
          },
          "metadata": {},
          "execution_count": 14
        },
        {
          "output_type": "display_data",
          "data": {
            "text/plain": [
              "<Figure size 432x288 with 1 Axes>"
            ],
            "image/png": "[encoded data removed]"
          },
          "metadata": {
            "needs_background": "light"
          }
        }
      ]
    },
    {
      "cell_type": "code",
      "source": [
        "#verificar as dimensões do tensor de cada imagem\n",
        "print(imagens[0].shape)\n",
        "#verificar as dimensões do tensor de cada etiqueta\n",
        "print(etiquetas[0].shape)"
      ],
      "metadata": {
        "colab": {
          "base_uri": "https://localhost:8080/"
        },
        "id": "k7su9ms333T0",
        "outputId": "9074cf4e-99a7-42d7-d051-626bfcafdd62"
      },
      "execution_count": 15,
      "outputs": [
        {
          "output_type": "stream",
          "name": "stdout",
          "text": [
            "torch.Size([1, 28, 28])\n",
            "torch.Size([])\n"
          ]
        }
      ]
    },
    {
      "cell_type": "code",
      "source": [
        "from torch.nn.modules.upsampling import F\n",
        "class Modelo(nn.Module):\n",
        "  def __init__(self):\n",
        "    super(Modelo, self).__init__()\n",
        "    #camada de entrada, 784 neurônios que se ligam a 128\n",
        "    self.linear1 = nn.Linear(28*28, 128)\n",
        "    #camada interna 1, 128 neurônios que se ligam a 64\n",
        "    self.linear2 = nn.Linear(128, 64)\n",
        "    #camada interna 2, 64 neurônios que se ligam a 10\n",
        "    self.linear3 = nn.Linear(64, 10)\n",
        "    #para cada camada de saída não é necessário definir nada pois só precisamos pegar o output da camada interna 2\n",
        "\n",
        "\n",
        "  def forward(self, x):\n",
        "    #função de ativação da camada de entrada para a camada interna 1\n",
        "    x = F.relu(self.linear1(x))\n",
        "    #função de ativação da camada de entrada para a camada interna 2\n",
        "    x = F.relu(self.linear2(x))\n",
        "    #função de ativação da camada de entrada para a camada interna 2 para a camada de saida, nesse caso f(x) = x\n",
        "    return F.log_softmax(x, dim=1)#dados utilizados para calcular a perda"
      ],
      "metadata": {
        "id": "88lWz2XX33ix"
      },
      "execution_count": 16,
      "outputs": []
    },
    {
      "cell_type": "code",
      "source": [
        "from prompt_toolkit import output\n",
        "def treino(modelo, trainloader, device):\n",
        "  #define a politica de atualização dos pesos e da baias\n",
        "  otimizador = optim.SGD(modelo.parameters(), lr=0.01, momentum=0.5)\n",
        "  #timer para sabermos quanto tempo levou o treino\n",
        "  inicio = time()\n",
        "\n",
        "  #definindo o critério para calcular a perda\n",
        "  criterio = nn.NLLLoss()\n",
        "  EPOCHS = 30 #numero de epochs que o algorismo rodará\n",
        "  modelo.train()#ativando o modo de treinamento do modelo\n",
        "\n",
        "  for epoch in range(EPOCHS):\n",
        "    perda_acumulada = 0 #inicialização da perda acumulada da epoch em questão\n",
        "    for imagens, etiquetas in trainloader:\n",
        "      #convertendo as imagens para vetores de 28*28 casas para ficarem compatíveis\n",
        "      imagens = imagens.view(imagens.shape[0], -1)\n",
        "      otimizador.zero_grad()#zerando os gradientes por conta do ciclo anterior\n",
        "\n",
        "      output = modelo(imagens.to(device)) # colocando os dados no modelo\n",
        "      perda_instantanea = criterio(output, etiquetas.to(device)) # calculando a perda da epoch em questão\n",
        "\n",
        "      perda_instantanea.backward()#back propagation a partir da perda\n",
        "\n",
        "      otimizador.step()#atualizando os pesos e a baias\n",
        "\n",
        "      perda_acumulada += perda_instantanea.item()#atualização da perda acumulada\n",
        "\n",
        "    \n",
        "    else:\n",
        "      print(\"Epoch {} - Perda resultante: {}\".format(epoch+1, perda_acumulada/len(trainloader)))\n",
        "  print(\"\\nTempo de Treino (em minuto) = \",(time()-inicio)/60)"
      ],
      "metadata": {
        "id": "QVs_W8FA33vz"
      },
      "execution_count": 17,
      "outputs": []
    },
    {
      "cell_type": "code",
      "source": [
        "def validacao(modelo, valloader, device):\n",
        "  conta_corretas, conta_todas = 0,0\n",
        "  for imagens, etiquetas in valloader:\n",
        "    for i in range(len(etiquetas)):\n",
        "      img = imagens[1].view(1, 784)\n",
        "      #desativar o autograd para acelerar a validação, grafos computacionais dinâmicos tem um custo alto de processamento\n",
        "      with torch.no_grad():\n",
        "        logps = modelo(img.to(device))\n",
        "\n",
        "\n",
        "      ps = torch.exp(logps) #converte outpu para escala normal(lembrando que é um tensor)\n",
        "      probab = list(ps.cpu().numpy()[0])\n",
        "      #converte o tensor em numero, no caso que o modelo previu como correto\n",
        "      etiqueta_pred = probab.index(max(probab))\n",
        "      etiqueta_certa = etiquetas.numpy()[i]\n",
        "      if(etiqueta_certa == etiqueta_pred):# compara a previsão com o valor correto\n",
        "        conta_corretas += 1\n",
        "      conta_todas += 1\n",
        "\n",
        "  print(\"total de imagens testadas = \", conta_todas)\n",
        "  print(\"\\nPrecisão do modelo = {}\".format(conta_corretas*100/conta_todas))\n"
      ],
      "metadata": {
        "id": "nDISyyBe9G6-"
      },
      "execution_count": 18,
      "outputs": []
    },
    {
      "cell_type": "code",
      "source": [
        "modelo = Modelo()\n",
        "device = torch.device('cuda' if torch.cuda.is_available() else 'cpu')\n",
        "modelo.to(device)"
      ],
      "metadata": {
        "colab": {
          "base_uri": "https://localhost:8080/"
        },
        "id": "EZl6iZfH9HKz",
        "outputId": "d677f28f-75ad-4013-eb46-43807c066590"
      },
      "execution_count": 19,
      "outputs": [
        {
          "output_type": "execute_result",
          "data": {
            "text/plain": [
              "Modelo(\n",
              "  (linear1): Linear(in_features=784, out_features=128, bias=True)\n",
              "  (linear2): Linear(in_features=128, out_features=64, bias=True)\n",
              "  (linear3): Linear(in_features=64, out_features=10, bias=True)\n",
              ")"
            ]
          },
          "metadata": {},
          "execution_count": 19
        }
      ]
    },
    {
      "cell_type": "code",
      "source": [],
      "metadata": {
        "id": "tzewvtB_9HZe"
      },
      "execution_count": 19,
      "outputs": []
    },
    {
      "cell_type": "code",
      "source": [],
      "metadata": {
        "id": "v9PTbOtU9Hm9"
      },
      "execution_count": 19,
      "outputs": []
    },
    {
      "cell_type": "code",
      "source": [],
      "metadata": {
        "id": "RSgKR9i29H1Z"
      },
      "execution_count": 19,
      "outputs": []
    },
    {
      "cell_type": "code",
      "source": [],
      "metadata": {
        "id": "tCo-rl1H9IFJ"
      },
      "execution_count": 19,
      "outputs": []
    },
    {
      "cell_type": "code",
      "source": [],
      "metadata": {
        "id": "aF1x06yO9IRN"
      },
      "execution_count": 19,
      "outputs": []
    }
  ]
}